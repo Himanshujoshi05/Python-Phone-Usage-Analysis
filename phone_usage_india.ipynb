{
 "cells": [
  {
   "cell_type": "code",
   "execution_count": 4,
   "metadata": {},
   "outputs": [],
   "source": [
    "import matplotlib.pyplot as plt\n",
    "import numpy as np\n",
    "import pandas as pd"
   ]
  },
  {
   "cell_type": "code",
   "execution_count": 5,
   "metadata": {},
   "outputs": [
    {
     "data": {
      "text/html": [
       "<div>\n",
       "<style scoped>\n",
       "    .dataframe tbody tr th:only-of-type {\n",
       "        vertical-align: middle;\n",
       "    }\n",
       "\n",
       "    .dataframe tbody tr th {\n",
       "        vertical-align: top;\n",
       "    }\n",
       "\n",
       "    .dataframe thead th {\n",
       "        text-align: right;\n",
       "    }\n",
       "</style>\n",
       "<table border=\"1\" class=\"dataframe\">\n",
       "  <thead>\n",
       "    <tr style=\"text-align: right;\">\n",
       "      <th></th>\n",
       "      <th>User ID</th>\n",
       "      <th>Age</th>\n",
       "      <th>Gender</th>\n",
       "      <th>Location</th>\n",
       "      <th>Phone Brand</th>\n",
       "      <th>OS</th>\n",
       "      <th>Screen Time (hrs/day)</th>\n",
       "      <th>Data Usage (GB/month)</th>\n",
       "      <th>Calls Duration (mins/day)</th>\n",
       "      <th>Number of Apps Installed</th>\n",
       "      <th>Social Media Time (hrs/day)</th>\n",
       "      <th>E-commerce Spend (INR/month)</th>\n",
       "      <th>Streaming Time (hrs/day)</th>\n",
       "      <th>Gaming Time (hrs/day)</th>\n",
       "      <th>Monthly Recharge Cost (INR)</th>\n",
       "      <th>Primary Use</th>\n",
       "    </tr>\n",
       "  </thead>\n",
       "  <tbody>\n",
       "    <tr>\n",
       "      <th>0</th>\n",
       "      <td>U00001</td>\n",
       "      <td>53</td>\n",
       "      <td>Male</td>\n",
       "      <td>Mumbai</td>\n",
       "      <td>Vivo</td>\n",
       "      <td>Android</td>\n",
       "      <td>3.7</td>\n",
       "      <td>23.9</td>\n",
       "      <td>37.9</td>\n",
       "      <td>104</td>\n",
       "      <td>3.9</td>\n",
       "      <td>469</td>\n",
       "      <td>5.2</td>\n",
       "      <td>4.1</td>\n",
       "      <td>803</td>\n",
       "      <td>Education</td>\n",
       "    </tr>\n",
       "    <tr>\n",
       "      <th>1</th>\n",
       "      <td>U00002</td>\n",
       "      <td>60</td>\n",
       "      <td>Other</td>\n",
       "      <td>Delhi</td>\n",
       "      <td>Realme</td>\n",
       "      <td>iOS</td>\n",
       "      <td>9.2</td>\n",
       "      <td>28.1</td>\n",
       "      <td>13.7</td>\n",
       "      <td>169</td>\n",
       "      <td>2.8</td>\n",
       "      <td>4997</td>\n",
       "      <td>5.1</td>\n",
       "      <td>0.4</td>\n",
       "      <td>1526</td>\n",
       "      <td>Gaming</td>\n",
       "    </tr>\n",
       "    <tr>\n",
       "      <th>2</th>\n",
       "      <td>U00003</td>\n",
       "      <td>37</td>\n",
       "      <td>Female</td>\n",
       "      <td>Ahmedabad</td>\n",
       "      <td>Nokia</td>\n",
       "      <td>Android</td>\n",
       "      <td>4.5</td>\n",
       "      <td>12.3</td>\n",
       "      <td>66.8</td>\n",
       "      <td>96</td>\n",
       "      <td>3.0</td>\n",
       "      <td>2381</td>\n",
       "      <td>1.7</td>\n",
       "      <td>2.9</td>\n",
       "      <td>1619</td>\n",
       "      <td>Entertainment</td>\n",
       "    </tr>\n",
       "    <tr>\n",
       "      <th>3</th>\n",
       "      <td>U00004</td>\n",
       "      <td>32</td>\n",
       "      <td>Male</td>\n",
       "      <td>Pune</td>\n",
       "      <td>Samsung</td>\n",
       "      <td>Android</td>\n",
       "      <td>11.0</td>\n",
       "      <td>25.6</td>\n",
       "      <td>156.2</td>\n",
       "      <td>146</td>\n",
       "      <td>5.2</td>\n",
       "      <td>1185</td>\n",
       "      <td>3.2</td>\n",
       "      <td>0.3</td>\n",
       "      <td>1560</td>\n",
       "      <td>Entertainment</td>\n",
       "    </tr>\n",
       "    <tr>\n",
       "      <th>4</th>\n",
       "      <td>U00005</td>\n",
       "      <td>16</td>\n",
       "      <td>Male</td>\n",
       "      <td>Mumbai</td>\n",
       "      <td>Xiaomi</td>\n",
       "      <td>iOS</td>\n",
       "      <td>2.2</td>\n",
       "      <td>2.5</td>\n",
       "      <td>236.2</td>\n",
       "      <td>86</td>\n",
       "      <td>5.5</td>\n",
       "      <td>106</td>\n",
       "      <td>3.4</td>\n",
       "      <td>2.3</td>\n",
       "      <td>742</td>\n",
       "      <td>Social Media</td>\n",
       "    </tr>\n",
       "  </tbody>\n",
       "</table>\n",
       "</div>"
      ],
      "text/plain": [
       "  User ID  Age  Gender   Location Phone Brand       OS  Screen Time (hrs/day)  \\\n",
       "0  U00001   53    Male     Mumbai        Vivo  Android                    3.7   \n",
       "1  U00002   60   Other      Delhi      Realme      iOS                    9.2   \n",
       "2  U00003   37  Female  Ahmedabad       Nokia  Android                    4.5   \n",
       "3  U00004   32    Male       Pune     Samsung  Android                   11.0   \n",
       "4  U00005   16    Male     Mumbai      Xiaomi      iOS                    2.2   \n",
       "\n",
       "   Data Usage (GB/month)  Calls Duration (mins/day)  Number of Apps Installed  \\\n",
       "0                   23.9                       37.9                       104   \n",
       "1                   28.1                       13.7                       169   \n",
       "2                   12.3                       66.8                        96   \n",
       "3                   25.6                      156.2                       146   \n",
       "4                    2.5                      236.2                        86   \n",
       "\n",
       "   Social Media Time (hrs/day)  E-commerce Spend (INR/month)  \\\n",
       "0                          3.9                           469   \n",
       "1                          2.8                          4997   \n",
       "2                          3.0                          2381   \n",
       "3                          5.2                          1185   \n",
       "4                          5.5                           106   \n",
       "\n",
       "   Streaming Time (hrs/day)  Gaming Time (hrs/day)  \\\n",
       "0                       5.2                    4.1   \n",
       "1                       5.1                    0.4   \n",
       "2                       1.7                    2.9   \n",
       "3                       3.2                    0.3   \n",
       "4                       3.4                    2.3   \n",
       "\n",
       "   Monthly Recharge Cost (INR)    Primary Use  \n",
       "0                          803      Education  \n",
       "1                         1526         Gaming  \n",
       "2                         1619  Entertainment  \n",
       "3                         1560  Entertainment  \n",
       "4                          742   Social Media  "
      ]
     },
     "execution_count": 5,
     "metadata": {},
     "output_type": "execute_result"
    }
   ],
   "source": [
    "data = pd.read_csv(\"C:\\\\Users\\\\joshi\\\\Downloads\\\\python projects\\\\phone_usage_india.csv\")\n",
    "data.head()"
   ]
  },
  {
   "cell_type": "code",
   "execution_count": 36,
   "metadata": {},
   "outputs": [
    {
     "data": {
      "text/html": [
       "<div>\n",
       "<style scoped>\n",
       "    .dataframe tbody tr th:only-of-type {\n",
       "        vertical-align: middle;\n",
       "    }\n",
       "\n",
       "    .dataframe tbody tr th {\n",
       "        vertical-align: top;\n",
       "    }\n",
       "\n",
       "    .dataframe thead th {\n",
       "        text-align: right;\n",
       "    }\n",
       "</style>\n",
       "<table border=\"1\" class=\"dataframe\">\n",
       "  <thead>\n",
       "    <tr style=\"text-align: right;\">\n",
       "      <th></th>\n",
       "      <th>User ID</th>\n",
       "      <th>Age</th>\n",
       "      <th>Gender</th>\n",
       "      <th>Location</th>\n",
       "      <th>Phone Brand</th>\n",
       "      <th>OS</th>\n",
       "      <th>Screen Time (hrs/day)</th>\n",
       "      <th>Data Usage (GB/month)</th>\n",
       "      <th>Calls Duration (mins/day)</th>\n",
       "      <th>Number of Apps Installed</th>\n",
       "      <th>Social Media Time (hrs/day)</th>\n",
       "      <th>E-commerce Spend (INR/month)</th>\n",
       "      <th>Streaming Time (hrs/day)</th>\n",
       "      <th>Gaming Time (hrs/day)</th>\n",
       "      <th>Monthly Recharge Cost (INR)</th>\n",
       "      <th>Primary Use</th>\n",
       "      <th>gaming_time_perweek</th>\n",
       "    </tr>\n",
       "  </thead>\n",
       "  <tbody>\n",
       "    <tr>\n",
       "      <th>0</th>\n",
       "      <td>U00001</td>\n",
       "      <td>53</td>\n",
       "      <td>Male</td>\n",
       "      <td>Mumbai</td>\n",
       "      <td>Vivo</td>\n",
       "      <td>Android</td>\n",
       "      <td>3.7</td>\n",
       "      <td>23.9</td>\n",
       "      <td>37.9</td>\n",
       "      <td>104</td>\n",
       "      <td>3.9</td>\n",
       "      <td>469</td>\n",
       "      <td>5.2</td>\n",
       "      <td>4.1</td>\n",
       "      <td>803</td>\n",
       "      <td>Education</td>\n",
       "      <td>28.7</td>\n",
       "    </tr>\n",
       "    <tr>\n",
       "      <th>1</th>\n",
       "      <td>U00002</td>\n",
       "      <td>60</td>\n",
       "      <td>Other</td>\n",
       "      <td>Delhi</td>\n",
       "      <td>Realme</td>\n",
       "      <td>iOS</td>\n",
       "      <td>9.2</td>\n",
       "      <td>28.1</td>\n",
       "      <td>13.7</td>\n",
       "      <td>169</td>\n",
       "      <td>2.8</td>\n",
       "      <td>4997</td>\n",
       "      <td>5.1</td>\n",
       "      <td>0.4</td>\n",
       "      <td>1526</td>\n",
       "      <td>Gaming</td>\n",
       "      <td>2.8</td>\n",
       "    </tr>\n",
       "    <tr>\n",
       "      <th>2</th>\n",
       "      <td>U00003</td>\n",
       "      <td>37</td>\n",
       "      <td>Female</td>\n",
       "      <td>Ahmedabad</td>\n",
       "      <td>Nokia</td>\n",
       "      <td>Android</td>\n",
       "      <td>4.5</td>\n",
       "      <td>12.3</td>\n",
       "      <td>66.8</td>\n",
       "      <td>96</td>\n",
       "      <td>3.0</td>\n",
       "      <td>2381</td>\n",
       "      <td>1.7</td>\n",
       "      <td>2.9</td>\n",
       "      <td>1619</td>\n",
       "      <td>Entertainment</td>\n",
       "      <td>20.3</td>\n",
       "    </tr>\n",
       "    <tr>\n",
       "      <th>3</th>\n",
       "      <td>U00004</td>\n",
       "      <td>32</td>\n",
       "      <td>Male</td>\n",
       "      <td>Pune</td>\n",
       "      <td>Samsung</td>\n",
       "      <td>Android</td>\n",
       "      <td>11.0</td>\n",
       "      <td>25.6</td>\n",
       "      <td>156.2</td>\n",
       "      <td>146</td>\n",
       "      <td>5.2</td>\n",
       "      <td>1185</td>\n",
       "      <td>3.2</td>\n",
       "      <td>0.3</td>\n",
       "      <td>1560</td>\n",
       "      <td>Entertainment</td>\n",
       "      <td>2.1</td>\n",
       "    </tr>\n",
       "    <tr>\n",
       "      <th>4</th>\n",
       "      <td>U00005</td>\n",
       "      <td>16</td>\n",
       "      <td>Male</td>\n",
       "      <td>Mumbai</td>\n",
       "      <td>Xiaomi</td>\n",
       "      <td>iOS</td>\n",
       "      <td>2.2</td>\n",
       "      <td>2.5</td>\n",
       "      <td>236.2</td>\n",
       "      <td>86</td>\n",
       "      <td>5.5</td>\n",
       "      <td>106</td>\n",
       "      <td>3.4</td>\n",
       "      <td>2.3</td>\n",
       "      <td>742</td>\n",
       "      <td>Social Media</td>\n",
       "      <td>16.1</td>\n",
       "    </tr>\n",
       "  </tbody>\n",
       "</table>\n",
       "</div>"
      ],
      "text/plain": [
       "  User ID  Age  Gender   Location Phone Brand       OS  Screen Time (hrs/day)  \\\n",
       "0  U00001   53    Male     Mumbai        Vivo  Android                    3.7   \n",
       "1  U00002   60   Other      Delhi      Realme      iOS                    9.2   \n",
       "2  U00003   37  Female  Ahmedabad       Nokia  Android                    4.5   \n",
       "3  U00004   32    Male       Pune     Samsung  Android                   11.0   \n",
       "4  U00005   16    Male     Mumbai      Xiaomi      iOS                    2.2   \n",
       "\n",
       "   Data Usage (GB/month)  Calls Duration (mins/day)  Number of Apps Installed  \\\n",
       "0                   23.9                       37.9                       104   \n",
       "1                   28.1                       13.7                       169   \n",
       "2                   12.3                       66.8                        96   \n",
       "3                   25.6                      156.2                       146   \n",
       "4                    2.5                      236.2                        86   \n",
       "\n",
       "   Social Media Time (hrs/day)  E-commerce Spend (INR/month)  \\\n",
       "0                          3.9                           469   \n",
       "1                          2.8                          4997   \n",
       "2                          3.0                          2381   \n",
       "3                          5.2                          1185   \n",
       "4                          5.5                           106   \n",
       "\n",
       "   Streaming Time (hrs/day)  Gaming Time (hrs/day)  \\\n",
       "0                       5.2                    4.1   \n",
       "1                       5.1                    0.4   \n",
       "2                       1.7                    2.9   \n",
       "3                       3.2                    0.3   \n",
       "4                       3.4                    2.3   \n",
       "\n",
       "   Monthly Recharge Cost (INR)    Primary Use  gaming_time_perweek  \n",
       "0                          803      Education                 28.7  \n",
       "1                         1526         Gaming                  2.8  \n",
       "2                         1619  Entertainment                 20.3  \n",
       "3                         1560  Entertainment                  2.1  \n",
       "4                          742   Social Media                 16.1  "
      ]
     },
     "execution_count": 36,
     "metadata": {},
     "output_type": "execute_result"
    }
   ],
   "source": [
    "# add a new column to the data frame\n",
    "data['gaming_time_perweek'] = data['Gaming Time (hrs/day)'] * 7\n",
    "data.head()"
   ]
  },
  {
   "cell_type": "code",
   "execution_count": 6,
   "metadata": {},
   "outputs": [
    {
     "name": "stdout",
     "output_type": "stream",
     "text": [
      "<class 'pandas.core.frame.DataFrame'>\n",
      "RangeIndex: 17686 entries, 0 to 17685\n",
      "Data columns (total 16 columns):\n",
      " #   Column                        Non-Null Count  Dtype  \n",
      "---  ------                        --------------  -----  \n",
      " 0   User ID                       17686 non-null  object \n",
      " 1   Age                           17686 non-null  int64  \n",
      " 2   Gender                        17686 non-null  object \n",
      " 3   Location                      17686 non-null  object \n",
      " 4   Phone Brand                   17686 non-null  object \n",
      " 5   OS                            17686 non-null  object \n",
      " 6   Screen Time (hrs/day)         17686 non-null  float64\n",
      " 7   Data Usage (GB/month)         17686 non-null  float64\n",
      " 8   Calls Duration (mins/day)     17686 non-null  float64\n",
      " 9   Number of Apps Installed      17686 non-null  int64  \n",
      " 10  Social Media Time (hrs/day)   17686 non-null  float64\n",
      " 11  E-commerce Spend (INR/month)  17686 non-null  int64  \n",
      " 12  Streaming Time (hrs/day)      17686 non-null  float64\n",
      " 13  Gaming Time (hrs/day)         17686 non-null  float64\n",
      " 14  Monthly Recharge Cost (INR)   17686 non-null  int64  \n",
      " 15  Primary Use                   17686 non-null  object \n",
      "dtypes: float64(6), int64(4), object(6)\n",
      "memory usage: 2.2+ MB\n"
     ]
    }
   ],
   "source": [
    "data.info()\n",
    "df = pd.DataFrame(data)"
   ]
  },
  {
   "cell_type": "code",
   "execution_count": null,
   "metadata": {},
   "outputs": [
    {
     "data": {
      "text/plain": [
       "User ID                         0\n",
       "Age                             0\n",
       "Gender                          0\n",
       "Location                        0\n",
       "Phone Brand                     0\n",
       "OS                              0\n",
       "Screen Time (hrs/day)           0\n",
       "Data Usage (GB/month)           0\n",
       "Calls Duration (mins/day)       0\n",
       "Number of Apps Installed        0\n",
       "Social Media Time (hrs/day)     0\n",
       "E-commerce Spend (INR/month)    0\n",
       "Streaming Time (hrs/day)        0\n",
       "Gaming Time (hrs/day)           0\n",
       "Monthly Recharge Cost (INR)     0\n",
       "Primary Use                     0\n",
       "dtype: int64"
      ]
     },
     "execution_count": 22,
     "metadata": {},
     "output_type": "execute_result"
    }
   ],
   "source": [
    "data.isnull().sum() # check for missing values"
   ]
  },
  {
   "cell_type": "code",
   "execution_count": 21,
   "metadata": {},
   "outputs": [
    {
     "data": {
      "text/html": [
       "<div>\n",
       "<style scoped>\n",
       "    .dataframe tbody tr th:only-of-type {\n",
       "        vertical-align: middle;\n",
       "    }\n",
       "\n",
       "    .dataframe tbody tr th {\n",
       "        vertical-align: top;\n",
       "    }\n",
       "\n",
       "    .dataframe thead th {\n",
       "        text-align: right;\n",
       "    }\n",
       "</style>\n",
       "<table border=\"1\" class=\"dataframe\">\n",
       "  <thead>\n",
       "    <tr style=\"text-align: right;\">\n",
       "      <th></th>\n",
       "      <th>Age</th>\n",
       "      <th>Screen Time (hrs/day)</th>\n",
       "      <th>Data Usage (GB/month)</th>\n",
       "      <th>Calls Duration (mins/day)</th>\n",
       "      <th>Number of Apps Installed</th>\n",
       "      <th>Social Media Time (hrs/day)</th>\n",
       "      <th>E-commerce Spend (INR/month)</th>\n",
       "      <th>Streaming Time (hrs/day)</th>\n",
       "      <th>Gaming Time (hrs/day)</th>\n",
       "      <th>Monthly Recharge Cost (INR)</th>\n",
       "    </tr>\n",
       "  </thead>\n",
       "  <tbody>\n",
       "    <tr>\n",
       "      <th>count</th>\n",
       "      <td>17686.000000</td>\n",
       "      <td>17686.000000</td>\n",
       "      <td>17686.000000</td>\n",
       "      <td>17686.000000</td>\n",
       "      <td>17686.000000</td>\n",
       "      <td>17686.000000</td>\n",
       "      <td>17686.000000</td>\n",
       "      <td>17686.000000</td>\n",
       "      <td>17686.000000</td>\n",
       "      <td>17686.000000</td>\n",
       "    </tr>\n",
       "    <tr>\n",
       "      <th>mean</th>\n",
       "      <td>37.584247</td>\n",
       "      <td>6.546376</td>\n",
       "      <td>25.411257</td>\n",
       "      <td>151.405846</td>\n",
       "      <td>104.584869</td>\n",
       "      <td>3.252369</td>\n",
       "      <td>5075.707848</td>\n",
       "      <td>4.250616</td>\n",
       "      <td>2.490874</td>\n",
       "      <td>1042.785367</td>\n",
       "    </tr>\n",
       "    <tr>\n",
       "      <th>std</th>\n",
       "      <td>13.338252</td>\n",
       "      <td>3.172677</td>\n",
       "      <td>14.122167</td>\n",
       "      <td>84.923353</td>\n",
       "      <td>55.217097</td>\n",
       "      <td>1.590223</td>\n",
       "      <td>2871.604841</td>\n",
       "      <td>2.155683</td>\n",
       "      <td>1.446003</td>\n",
       "      <td>552.502067</td>\n",
       "    </tr>\n",
       "    <tr>\n",
       "      <th>min</th>\n",
       "      <td>15.000000</td>\n",
       "      <td>1.000000</td>\n",
       "      <td>1.000000</td>\n",
       "      <td>5.000000</td>\n",
       "      <td>10.000000</td>\n",
       "      <td>0.500000</td>\n",
       "      <td>100.000000</td>\n",
       "      <td>0.500000</td>\n",
       "      <td>0.000000</td>\n",
       "      <td>100.000000</td>\n",
       "    </tr>\n",
       "    <tr>\n",
       "      <th>25%</th>\n",
       "      <td>26.000000</td>\n",
       "      <td>3.800000</td>\n",
       "      <td>13.200000</td>\n",
       "      <td>77.325000</td>\n",
       "      <td>57.000000</td>\n",
       "      <td>1.900000</td>\n",
       "      <td>2587.500000</td>\n",
       "      <td>2.400000</td>\n",
       "      <td>1.200000</td>\n",
       "      <td>561.000000</td>\n",
       "    </tr>\n",
       "    <tr>\n",
       "      <th>50%</th>\n",
       "      <td>38.000000</td>\n",
       "      <td>6.600000</td>\n",
       "      <td>25.300000</td>\n",
       "      <td>150.600000</td>\n",
       "      <td>104.000000</td>\n",
       "      <td>3.200000</td>\n",
       "      <td>5052.000000</td>\n",
       "      <td>4.200000</td>\n",
       "      <td>2.500000</td>\n",
       "      <td>1040.000000</td>\n",
       "    </tr>\n",
       "    <tr>\n",
       "      <th>75%</th>\n",
       "      <td>49.000000</td>\n",
       "      <td>9.300000</td>\n",
       "      <td>37.600000</td>\n",
       "      <td>223.900000</td>\n",
       "      <td>152.000000</td>\n",
       "      <td>4.600000</td>\n",
       "      <td>7606.000000</td>\n",
       "      <td>6.100000</td>\n",
       "      <td>3.700000</td>\n",
       "      <td>1521.750000</td>\n",
       "    </tr>\n",
       "    <tr>\n",
       "      <th>max</th>\n",
       "      <td>60.000000</td>\n",
       "      <td>12.000000</td>\n",
       "      <td>50.000000</td>\n",
       "      <td>300.000000</td>\n",
       "      <td>200.000000</td>\n",
       "      <td>6.000000</td>\n",
       "      <td>10000.000000</td>\n",
       "      <td>8.000000</td>\n",
       "      <td>5.000000</td>\n",
       "      <td>2000.000000</td>\n",
       "    </tr>\n",
       "  </tbody>\n",
       "</table>\n",
       "</div>"
      ],
      "text/plain": [
       "                Age  Screen Time (hrs/day)  Data Usage (GB/month)  \\\n",
       "count  17686.000000           17686.000000           17686.000000   \n",
       "mean      37.584247               6.546376              25.411257   \n",
       "std       13.338252               3.172677              14.122167   \n",
       "min       15.000000               1.000000               1.000000   \n",
       "25%       26.000000               3.800000              13.200000   \n",
       "50%       38.000000               6.600000              25.300000   \n",
       "75%       49.000000               9.300000              37.600000   \n",
       "max       60.000000              12.000000              50.000000   \n",
       "\n",
       "       Calls Duration (mins/day)  Number of Apps Installed  \\\n",
       "count               17686.000000              17686.000000   \n",
       "mean                  151.405846                104.584869   \n",
       "std                    84.923353                 55.217097   \n",
       "min                     5.000000                 10.000000   \n",
       "25%                    77.325000                 57.000000   \n",
       "50%                   150.600000                104.000000   \n",
       "75%                   223.900000                152.000000   \n",
       "max                   300.000000                200.000000   \n",
       "\n",
       "       Social Media Time (hrs/day)  E-commerce Spend (INR/month)  \\\n",
       "count                 17686.000000                  17686.000000   \n",
       "mean                      3.252369                   5075.707848   \n",
       "std                       1.590223                   2871.604841   \n",
       "min                       0.500000                    100.000000   \n",
       "25%                       1.900000                   2587.500000   \n",
       "50%                       3.200000                   5052.000000   \n",
       "75%                       4.600000                   7606.000000   \n",
       "max                       6.000000                  10000.000000   \n",
       "\n",
       "       Streaming Time (hrs/day)  Gaming Time (hrs/day)  \\\n",
       "count              17686.000000           17686.000000   \n",
       "mean                   4.250616               2.490874   \n",
       "std                    2.155683               1.446003   \n",
       "min                    0.500000               0.000000   \n",
       "25%                    2.400000               1.200000   \n",
       "50%                    4.200000               2.500000   \n",
       "75%                    6.100000               3.700000   \n",
       "max                    8.000000               5.000000   \n",
       "\n",
       "       Monthly Recharge Cost (INR)  \n",
       "count                 17686.000000  \n",
       "mean                   1042.785367  \n",
       "std                     552.502067  \n",
       "min                     100.000000  \n",
       "25%                     561.000000  \n",
       "50%                    1040.000000  \n",
       "75%                    1521.750000  \n",
       "max                    2000.000000  "
      ]
     },
     "execution_count": 21,
     "metadata": {},
     "output_type": "execute_result"
    }
   ],
   "source": [
    "data.describe()"
   ]
  },
  {
   "cell_type": "markdown",
   "metadata": {},
   "source": [
    "Instead of dealing with individual data points, bins categorize them into ranges, making it easier to interpret patterns.\n"
   ]
  },
  {
   "cell_type": "code",
   "execution_count": 8,
   "metadata": {},
   "outputs": [
    {
     "data": {
      "image/png": "[encoded data removed]",
      "text/plain": [
       "<Figure size 800x500 with 1 Axes>"
      ]
     },
     "metadata": {},
     "output_type": "display_data"
    }
   ],
   "source": [
    "bins = [15,18,25,45,60] # bins Defines the bin boundaries for the age groups\n",
    "labels = ['15-18','18-25','25-45','45-60'] # Names assigned to each bin\n",
    "df[\"age_group\"] = pd.cut(df['Age'], bins=bins, labels=labels, right=True)# right=False means that the interval is left-closed, right-open\n",
    "age_group_counts = df['age_group'].value_counts().sort_index()\n",
    "plt.figure(figsize=(8, 5))\n",
    "bars = plt.bar(age_group_counts.index, age_group_counts.values, color='skyblue')\n",
    "plt.bar_label(bars)\n",
    "plt.show()"
   ]
  },
  {
   "cell_type": "code",
   "execution_count": null,
   "metadata": {},
   "outputs": [
    {
     "data": {
      "text/html": [
       "<div>\n",
       "<style scoped>\n",
       "    .dataframe tbody tr th:only-of-type {\n",
       "        vertical-align: middle;\n",
       "    }\n",
       "\n",
       "    .dataframe tbody tr th {\n",
       "        vertical-align: top;\n",
       "    }\n",
       "\n",
       "    .dataframe thead th {\n",
       "        text-align: right;\n",
       "    }\n",
       "</style>\n",
       "<table border=\"1\" class=\"dataframe\">\n",
       "  <thead>\n",
       "    <tr style=\"text-align: right;\">\n",
       "      <th></th>\n",
       "      <th>Age</th>\n",
       "    </tr>\n",
       "    <tr>\n",
       "      <th>age_group</th>\n",
       "      <th></th>\n",
       "    </tr>\n",
       "  </thead>\n",
       "  <tbody>\n",
       "    <tr>\n",
       "      <th>15-18</th>\n",
       "      <td>1127</td>\n",
       "    </tr>\n",
       "    <tr>\n",
       "      <th>18-25</th>\n",
       "      <td>2735</td>\n",
       "    </tr>\n",
       "    <tr>\n",
       "      <th>25-45</th>\n",
       "      <td>7524</td>\n",
       "    </tr>\n",
       "    <tr>\n",
       "      <th>45-60</th>\n",
       "      <td>5904</td>\n",
       "    </tr>\n",
       "  </tbody>\n",
       "</table>\n",
       "</div>"
      ],
      "text/plain": [
       "            Age\n",
       "age_group      \n",
       "15-18      1127\n",
       "18-25      2735\n",
       "25-45      7524\n",
       "45-60      5904"
      ]
     },
     "execution_count": 10,
     "metadata": {},
     "output_type": "execute_result"
    }
   ],
   "source": [
    "pivot_table = df.pivot_table(index='age_group', values='Age', aggfunc='count',observed=False)# observed=False means that the NaN values are ignored\n",
    "pivot_table"
   ]
  },
  {
   "cell_type": "code",
   "execution_count": 19,
   "metadata": {},
   "outputs": [
    {
     "name": "stderr",
     "output_type": "stream",
     "text": [
      "C:\\Users\\joshi\\AppData\\Local\\Temp\\ipykernel_15696\\1745070611.py:1: FutureWarning: The default of observed=False is deprecated and will be changed to True in a future version of pandas. Pass observed=False to retain current behavior or observed=True to adopt the future default and silence this warning.\n",
      "  df.groupby(\"age_group\")[\"Gender\"].value_counts()\n"
     ]
    },
    {
     "data": {
      "text/plain": [
       "age_group  Gender\n",
       "15-18      Male       427\n",
       "           Other      351\n",
       "           Female     349\n",
       "18-25      Female     950\n",
       "           Other      898\n",
       "           Male       887\n",
       "25-45      Female    2542\n",
       "           Other     2514\n",
       "           Male      2468\n",
       "45-60      Female    1999\n",
       "           Other     1983\n",
       "           Male      1922\n",
       "Name: count, dtype: int64"
      ]
     },
     "execution_count": 19,
     "metadata": {},
     "output_type": "execute_result"
    }
   ],
   "source": [
    "df.groupby(\"age_group\")[\"Gender\"].value_counts()"
   ]
  },
  {
   "cell_type": "code",
   "execution_count": null,
   "metadata": {},
   "outputs": [
    {
     "data": {
      "text/html": [
       "<div>\n",
       "<style scoped>\n",
       "    .dataframe tbody tr th:only-of-type {\n",
       "        vertical-align: middle;\n",
       "    }\n",
       "\n",
       "    .dataframe tbody tr th {\n",
       "        vertical-align: top;\n",
       "    }\n",
       "\n",
       "    .dataframe thead th {\n",
       "        text-align: right;\n",
       "    }\n",
       "</style>\n",
       "<table border=\"1\" class=\"dataframe\">\n",
       "  <thead>\n",
       "    <tr style=\"text-align: right;\">\n",
       "      <th>age_group</th>\n",
       "      <th>15-18</th>\n",
       "      <th>18-25</th>\n",
       "      <th>25-45</th>\n",
       "      <th>45-60</th>\n",
       "    </tr>\n",
       "    <tr>\n",
       "      <th>Gender</th>\n",
       "      <th></th>\n",
       "      <th></th>\n",
       "      <th></th>\n",
       "      <th></th>\n",
       "    </tr>\n",
       "  </thead>\n",
       "  <tbody>\n",
       "    <tr>\n",
       "      <th>Female</th>\n",
       "      <td>349</td>\n",
       "      <td>950</td>\n",
       "      <td>2542</td>\n",
       "      <td>1999</td>\n",
       "    </tr>\n",
       "    <tr>\n",
       "      <th>Male</th>\n",
       "      <td>427</td>\n",
       "      <td>887</td>\n",
       "      <td>2468</td>\n",
       "      <td>1922</td>\n",
       "    </tr>\n",
       "    <tr>\n",
       "      <th>Other</th>\n",
       "      <td>351</td>\n",
       "      <td>898</td>\n",
       "      <td>2514</td>\n",
       "      <td>1983</td>\n",
       "    </tr>\n",
       "  </tbody>\n",
       "</table>\n",
       "</div>"
      ],
      "text/plain": [
       "age_group  15-18  18-25  25-45  45-60\n",
       "Gender                               \n",
       "Female       349    950   2542   1999\n",
       "Male         427    887   2468   1922\n",
       "Other        351    898   2514   1983"
      ]
     },
     "execution_count": 12,
     "metadata": {},
     "output_type": "execute_result"
    }
   ],
   "source": [
    "pivot_df = df.pivot_table(index='Gender', columns='age_group', values='Age', aggfunc='count', observed=False) # observed=False means that the NaN values are ignored\n",
    "pivot_df"
   ]
  },
  {
   "cell_type": "code",
   "execution_count": 124,
   "metadata": {},
   "outputs": [
    {
     "data": {
      "text/plain": [
       "Gender\n",
       "Female    5969\n",
       "Male      5825\n",
       "Other     5892\n",
       "Name: count, dtype: int64"
      ]
     },
     "execution_count": 124,
     "metadata": {},
     "output_type": "execute_result"
    }
   ],
   "source": [
    "gender_count = data[\"Gender\"].value_counts().sort_index()\n",
    "# gender_count['Total'] = gender_count.sum()\n",
    "gender_count"
   ]
  },
  {
   "cell_type": "code",
   "execution_count": 125,
   "metadata": {},
   "outputs": [
    {
     "data": {
      "image/png": "[encoded data removed]",
      "text/plain": [
       "<Figure size 800x500 with 1 Axes>"
      ]
     },
     "metadata": {},
     "output_type": "display_data"
    }
   ],
   "source": [
    "plt.figure(figsize=(8, 5))\n",
    "bars = plt.bar(gender_count.index,gender_count.values, color='skyblue')\n",
    "plt.xlabel(\"gender\")\n",
    "plt.ylabel(\"count..\")\n",
    "plt.title(\"bar chart\")\n",
    "plt.bar_label(bars)\n",
    "plt.show()"
   ]
  },
  {
   "cell_type": "code",
   "execution_count": 22,
   "metadata": {},
   "outputs": [
    {
     "data": {
      "text/plain": [
       "Location\n",
       "Jaipur       1824\n",
       "Pune         1815\n",
       "Chennai      1790\n",
       "Kolkata      1789\n",
       "Bangalore    1786\n",
       "Ahmedabad    1785\n",
       "Delhi        1775\n",
       "Mumbai       1722\n",
       "Hyderabad    1700\n",
       "Lucknow      1700\n",
       "Name: count, dtype: int64"
      ]
     },
     "execution_count": 22,
     "metadata": {},
     "output_type": "execute_result"
    }
   ],
   "source": [
    "location_count = data[\"Location\"].value_counts().sort_index().sort_values(ascending=False) # sort_index() is used to sort the index of the series\n",
    "location_count"
   ]
  },
  {
   "cell_type": "code",
   "execution_count": 127,
   "metadata": {},
   "outputs": [
    {
     "data": {
      "image/png": "[encoded data removed]",
      "text/plain": [
       "<Figure size 1500x500 with 1 Axes>"
      ]
     },
     "metadata": {},
     "output_type": "display_data"
    }
   ],
   "source": [
    "location_count = location_count.sort_values(ascending=False)\n",
    "plt.figure(figsize=(15, 5))\n",
    "bars = plt.bar(location_count.index,location_count.values, color='skyblue')\n",
    "plt.xlabel(\"location\")\n",
    "plt.ylabel(\"count..\")\n",
    "plt.title(\"bar chart\")\n",
    "plt.bar_label(bars)\n",
    "plt.show()"
   ]
  },
  {
   "cell_type": "code",
   "execution_count": 23,
   "metadata": {},
   "outputs": [
    {
     "data": {
      "text/plain": [
       "Gender\n",
       "Male      6.603828\n",
       "Other     6.532519\n",
       "Female    6.503987\n",
       "Name: Screen Time (hrs/day), dtype: float64"
      ]
     },
     "execution_count": 23,
     "metadata": {},
     "output_type": "execute_result"
    }
   ],
   "source": [
    "gender_screentime = data.groupby(\"Gender\")[\"Screen Time (hrs/day)\"].mean().sort_values(ascending=False)\n",
    "gender_screentime"
   ]
  },
  {
   "cell_type": "markdown",
   "metadata": {},
   "source": [
    "screen time on basis of gender "
   ]
  },
  {
   "cell_type": "code",
   "execution_count": 24,
   "metadata": {},
   "outputs": [
    {
     "data": {
      "image/png": "[encoded data removed]",
      "text/plain": [
       "<Figure size 800x500 with 1 Axes>"
      ]
     },
     "metadata": {},
     "output_type": "display_data"
    }
   ],
   "source": [
    "color = [\"pink\",\"blue\",\"green\"]\n",
    "plt.figure(figsize=(8, 5))\n",
    "\n",
    "bars = plt.bar(gender_screentime.index,gender_screentime.values, color = color)\n",
    "\n",
    "plt.xlabel(\"Gender\",fontsize=12)\n",
    "plt.ylabel(\"Hour..\",fontsize=12)\n",
    "plt.title(\"AVG SCREEN TIME\",fontsize=15)\n",
    "plt.bar_label(bars, fmt='%.1f', fontsize=12) \n",
    "\n",
    "plt.show()"
   ]
  },
  {
   "cell_type": "markdown",
   "metadata": {},
   "source": [
    "which phone brand is more popular for use case"
   ]
  },
  {
   "cell_type": "code",
   "execution_count": 73,
   "metadata": {},
   "outputs": [
    {
     "data": {
      "image/png": "[encoded data removed]",
      "text/plain": [
       "<Figure size 640x480 with 1 Axes>"
      ]
     },
     "metadata": {},
     "output_type": "display_data"
    }
   ],
   "source": [
    "phone_count = data[\"Phone Brand\"].value_counts().sort_values(ascending=False)\n",
    "plt.pie(phone_count,labels=phone_count.index,autopct='%1.1f%%')\n",
    "plt.show()"
   ]
  },
  {
   "cell_type": "code",
   "execution_count": 25,
   "metadata": {},
   "outputs": [
    {
     "data": {
      "text/plain": [
       "Gender\n",
       "Other     3.280669\n",
       "Female    3.241598\n",
       "Male      3.234781\n",
       "Name: Social Media Time (hrs/day), dtype: float64"
      ]
     },
     "execution_count": 25,
     "metadata": {},
     "output_type": "execute_result"
    }
   ],
   "source": [
    "gender_socialmedia = data.groupby(\"Gender\")[\"Social Media Time (hrs/day)\"].mean().sort_values(ascending=False)\n",
    "gender_socialmedia"
   ]
  },
  {
   "cell_type": "code",
   "execution_count": 26,
   "metadata": {},
   "outputs": [
    {
     "data": {
      "image/png": "[encoded data removed]",
      "text/plain": [
       "<Figure size 800x500 with 1 Axes>"
      ]
     },
     "metadata": {},
     "output_type": "display_data"
    }
   ],
   "source": [
    "color = [\"pink\",\"purple\",\"lightblue\"]\n",
    "plt.figure(figsize=(8, 5))\n",
    "\n",
    "bars = plt.bar(gender_socialmedia.index,gender_socialmedia.values, color = color)\n",
    "\n",
    "plt.xlabel(\"Gender\",fontsize=12)\n",
    "plt.ylabel(\"Hour..\",fontsize=12)\n",
    "plt.title(\"AVG SOCIAL MEDIA SCREEN TIME\",fontsize=15)\n",
    "plt.bar_label(bars, fmt='%.1f', fontsize=12) \n",
    "plt.show()"
   ]
  },
  {
   "cell_type": "code",
   "execution_count": 96,
   "metadata": {},
   "outputs": [
    {
     "data": {
      "text/plain": [
       "Primary Use\n",
       "Education        3601\n",
       "Gaming           3576\n",
       "Work             3557\n",
       "Social Media     3501\n",
       "Entertainment    3451\n",
       "Name: count, dtype: int64"
      ]
     },
     "execution_count": 96,
     "metadata": {},
     "output_type": "execute_result"
    }
   ],
   "source": [
    "primary_use = data[\"Primary Use\"].value_counts().sort_values(ascending=False)\n",
    "primary_use"
   ]
  },
  {
   "cell_type": "code",
   "execution_count": null,
   "metadata": {},
   "outputs": [],
   "source": []
  }
 ],
 "metadata": {
  "kernelspec": {
   "display_name": "Python 3",
   "language": "python",
   "name": "python3"
  },
  "language_info": {
   "codemirror_mode": {
    "name": "ipython",
    "version": 3
   },
   "file_extension": ".py",
   "mimetype": "text/x-python",
   "name": "python",
   "nbconvert_exporter": "python",
   "pygments_lexer": "ipython3",
   "version": "3.13.2"
  }
 },
 "nbformat": 4,
 "nbformat_minor": 2
}
